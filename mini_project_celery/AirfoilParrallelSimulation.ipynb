{
 "cells": [
  {
   "cell_type": "code",
   "execution_count": 7,
   "id": "88af85ea",
   "metadata": {},
   "outputs": [],
   "source": [
    "import os\n",
    "from tqdm import tqdm\n",
    "import subprocess"
   ]
  },
  {
   "cell_type": "code",
   "execution_count": 8,
   "id": "304e70e6",
   "metadata": {},
   "outputs": [],
   "source": [
    "# Task 1: create msh files by ./runme.sh 0 30 10 200"
   ]
  },
  {
   "cell_type": "code",
   "execution_count": 9,
   "id": "0a11ffe0",
   "metadata": {},
   "outputs": [],
   "source": [
    "# Task2: convert msh to xml by dolfin-convert <msh> <xml>"
   ]
  },
  {
   "cell_type": "code",
   "execution_count": 23,
   "id": "964e362f",
   "metadata": {},
   "outputs": [
    {
     "data": {
      "text/plain": [
       "CompletedProcess(args=['ls', '../murtazo/cloudnaca/msh/'], returncode=0, stdout='r0a0n200.msh\\nr0a12n200.msh\\nr0a15n200.msh\\nr0a18n200.msh\\nr0a21n200.msh\\nr0a24n200.msh\\nr0a27n200.msh\\nr0a30n200.msh\\nr0a3n200.msh\\nr0a6n200.msh\\nr0a9n200.msh\\nr1a0n200.msh\\nr1a12n200.msh\\nr1a15n200.msh\\nr1a18n200.msh\\nr1a21n200.msh\\nr1a24n200.msh\\nr1a27n200.msh\\nr1a30n200.msh\\nr1a3n200.msh\\nr1a6n200.msh\\nr1a9n200.msh\\nr2a0n200.msh\\nr2a12n200.msh\\nr2a15n200.msh\\nr2a15n200.xml\\nr2a18n200.msh\\nr2a21n200.msh\\nr2a24n200.msh\\nr2a27n200.msh\\nr2a30n200.msh\\nr2a3n200.msh\\nr2a6n200.msh\\nr2a9n200.msh\\nr3a0n200.msh\\nr3a12n200.msh\\nr3a15n200.msh\\nr3a18n200.msh\\nr3a21n200.msh\\nr3a24n200.msh\\nr3a27n200.msh\\nr3a30n200.msh\\nr3a3n200.msh\\nr3a6n200.msh\\nr3a9n200.msh\\n', stderr='')"
      ]
     },
     "execution_count": 23,
     "metadata": {},
     "output_type": "execute_result"
    }
   ],
   "source": [
    "subprocess.run([\"ls\", \"../murtazo/cloudnaca/msh/\"], check=True, text=True, capture_output=True)"
   ]
  },
  {
   "cell_type": "code",
   "execution_count": 4,
   "id": "91c65c40",
   "metadata": {},
   "outputs": [
    {
     "name": "stderr",
     "output_type": "stream",
     "text": [
      "100%|████████████████████████████████████████████████████████████████████████████████| 45/45 [00:00<00:00, 64439.63it/s]"
     ]
    },
    {
     "name": "stdout",
     "output_type": "stream",
     "text": [
      "r0a24n200.msh\n",
      "r0a15n200.msh\n",
      "r0a3n200.msh\n",
      "r0a6n200.msh\n",
      "r2a12n200.msh\n",
      "r1a27n200.msh\n",
      "r1a3n200.msh\n",
      "r1a30n200.msh\n",
      "r0a0n200.msh\n",
      "r2a6n200.msh\n",
      "r2a21n200.msh\n",
      "r2a15n200.xml\n",
      "r2a15n200.msh\n",
      "r3a18n200.msh\n",
      "r3a15n200.msh\n",
      "r1a18n200.msh\n",
      "r3a12n200.msh\n",
      "r3a6n200.msh\n",
      "r3a30n200.msh\n",
      "r1a6n200.msh\n",
      "r1a12n200.msh\n",
      "r2a3n200.msh\n",
      "r1a21n200.msh\n",
      "r0a30n200.msh\n",
      "r0a21n200.msh\n",
      "r2a24n200.msh\n",
      "r1a0n200.msh\n",
      "r2a18n200.msh\n",
      "r0a27n200.msh\n",
      "r2a27n200.msh\n",
      "r1a9n200.msh\n",
      "r3a9n200.msh\n",
      "r3a27n200.msh\n",
      "r1a24n200.msh\n",
      "r3a21n200.msh\n",
      "r1a15n200.msh\n",
      "r2a9n200.msh\n",
      "r0a12n200.msh\n",
      "r3a0n200.msh\n",
      "r0a18n200.msh\n",
      "r3a3n200.msh\n",
      "r2a30n200.msh\n",
      "r3a24n200.msh\n",
      "r2a0n200.msh\n",
      "r0a9n200.msh\n"
     ]
    },
    {
     "name": "stderr",
     "output_type": "stream",
     "text": [
      "\n"
     ]
    }
   ],
   "source": [
    "input_path = \"../murtazo/cloudnaca/msh\"\n",
    "for filename in tqdm(os.listdir(input_path)):\n",
    "    print(filename)\n",
    "    #Task 1 convert msh to xml by dolfin-convert <msh> <xml>\n",
    "    subprocess.run(['dolfin-convert', filename, r2a15n200.xml])\n",
    "    #Task 2 run navier_stokes_solver by ./airfoil 10 0.0001 10. 1 file\n",
    "    #Task3 getResults by Tail –n 1 drag_ligt.m\n",
    "\n",
    "    \n",
    "    \n",
    " "
   ]
  },
  {
   "cell_type": "code",
   "execution_count": null,
   "id": "f2636f51",
   "metadata": {},
   "outputs": [],
   "source": [
    "# Task 3 run navier_stokes_solver by ./airfoil 10 0.0001 10. 1 file"
   ]
  }
 ],
 "metadata": {
  "kernelspec": {
   "display_name": "Python 3 (ipykernel)",
   "language": "python",
   "name": "python3"
  },
  "language_info": {
   "codemirror_mode": {
    "name": "ipython",
    "version": 3
   },
   "file_extension": ".py",
   "mimetype": "text/x-python",
   "name": "python",
   "nbconvert_exporter": "python",
   "pygments_lexer": "ipython3",
   "version": "3.8.10"
  }
 },
 "nbformat": 4,
 "nbformat_minor": 5
}

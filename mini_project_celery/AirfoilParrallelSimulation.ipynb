{
 "cells": [
  {
   "cell_type": "code",
   "execution_count": 52,
   "id": "803818dc",
   "metadata": {},
   "outputs": [],
   "source": [
    "import os\n",
    "from tqdm import tqdm\n",
    "import subprocess\n",
    "import json\n",
    "import pandas as pd"
   ]
  },
  {
   "cell_type": "code",
   "execution_count": 4,
   "id": "9967f46d",
   "metadata": {
    "tags": []
   },
   "outputs": [
    {
     "name": "stdout",
     "output_type": "stream",
     "text": [
      "/home/fenics/shared/mini_project_celery\n"
     ]
    }
   ],
   "source": [
    "!pwd"
   ]
  },
  {
   "cell_type": "code",
   "execution_count": 5,
   "id": "606e3877",
   "metadata": {
    "tags": []
   },
   "outputs": [
    {
     "name": "stdout",
     "output_type": "stream",
     "text": [
      "r0a0n200.msh   r0a9n200.msh   r1a6n200.msh   r2a27n200.msh  r3a21n200.msh\n",
      "r0a12n200.msh  r1a0n200.msh   r1a9n200.msh   r2a27n200.xml  r3a24n200.msh\n",
      "r0a15n200.msh  r1a12n200.msh  r2a0n200.msh   r2a30n200.msh  r3a27n200.msh\n",
      "r0a18n200.msh  r1a15n200.msh  r2a12n200.msh  r2a3n200.msh   r3a30n200.msh\n",
      "r0a21n200.msh  r1a18n200.msh  r2a12n200.xml  r2a6n200.msh   r3a30n200.xml\n",
      "r0a24n200.msh  r1a21n200.msh  r2a15n200.msh  r2a9n200.msh   r3a3n200.msh\n",
      "r0a24n200.xml  r1a21n200.xml  r2a18n200.msh  r3a0n200.msh   r3a6n200.msh\n",
      "r0a27n200.msh  r1a24n200.msh  r2a18n200.xml  r3a12n200.msh  r3a9n200.msh\n",
      "r0a30n200.msh  r1a27n200.msh  r2a21n200.msh  r3a15n200.msh\n",
      "r0a3n200.msh   r1a30n200.msh  r2a24n200.msh  r3a18n200.msh\n",
      "r0a6n200.msh   r1a3n200.msh   r2a24n200.xml  r3a18n200.xml\n"
     ]
    }
   ],
   "source": [
    "!ls ../murtazo/cloudnaca/msh/"
   ]
  },
  {
   "cell_type": "code",
   "execution_count": 6,
   "id": "08b5ac3e",
   "metadata": {
    "tags": []
   },
   "outputs": [],
   "source": [
    "# --------------------- Local TESTING -------------------------------------------------------"
   ]
  },
  {
   "cell_type": "code",
   "execution_count": 7,
   "id": "29f45b13",
   "metadata": {
    "tags": []
   },
   "outputs": [],
   "source": [
    "def startSimulation(filename):\n",
    "    #get path for filename and corresponding .xml file\n",
    "    xmlfilename = input_path + filename.split(\".\")[0]+\".xml\"\n",
    "    filename_path = input_path + filename\n",
    "    \n",
    "    #Task 1 convert msh to xml by dolfin-convert <msh> <xml>\n",
    "    !dolfin-convert $filename_path $xmlfilename\n",
    "#     subprocess.run([\"dolfin-convert\", filename_path, xmlfilename],check=True, capture_output=True)\n",
    "    #Task 2 run navier_stokes_solver by ./airfoil 10 0.0001 10. 1 file\n",
    "    ! ../murtazo/navier_stokes_solver/airfoil 10 0.00001 10. 1 $xmlfilename\n",
    "#     subprocess.run([\"../murtazo/navier_stokes_solver/airfoil\", 10,0.0001,10.,1, xmlfilename],check=True, capture_output=True)\n",
    "    \n",
    "    #Task3 getResults by Tail –n 1 drag_ligt.m\n",
    "    output = !tail -n 1  ../murtazo/navier_stokes_solver/results/drag_ligt.m \n",
    "#     subprocess.run([\"tail\", \"-n\",1, \"../murtazo/navier_stokes_solver/results/drag_ligt.m\"],check=True, capture_output=True)\n",
    "    #preprocessing result into dictionary\n",
    "    result = {\"filename\": filename, \"lift\": output[0].split(\"\\t\")[1], \"drag\": output[0].split(\"\\t\")[2]}\n",
    "    return output, result, json.dumps(result)\n",
    "\n",
    "%%time\n",
    "results =  []\n",
    "input_path = \"../murtazo/cloudnaca/msh/\"\n",
    "sublist_msh = ['r0a24n200.msh','r0a0n200.msh',   'r0a1n200.msh',  'r0a2n200.msh', 'r0a3n200.msh','r0a4n200.msh','r1a27n200.msh'  ]\n",
    "# for filename in tqdm(os.listdir(input_path)):\n",
    "for filename in tqdm(sublist_msh):\n",
    "    output, result, json = startSimulation(filename)\n",
    "    results.append(output)\n",
    "    break\n",
    "    \n",
    "    "
   ]
  },
  {
   "cell_type": "code",
   "execution_count": 8,
   "id": "15edb575",
   "metadata": {
    "tags": []
   },
   "outputs": [
    {
     "name": "stderr",
     "output_type": "stream",
     "text": [
      "  0%|          | 0/7 [00:00<?, ?it/s]"
     ]
    },
    {
     "name": "stdout",
     "output_type": "stream",
     "text": [
      "/bin/bash: line 1: dolfin-convert: command not found\n",
      "../murtazo/navier_stokes_solver/airfoil: error while loading shared libraries: libdolfin.so.2019.1: cannot open shared object file: No such file or directory\n"
     ]
    },
    {
     "name": "stderr",
     "output_type": "stream",
     "text": [
      "  0%|          | 0/7 [00:02<?, ?it/s]"
     ]
    },
    {
     "name": "stdout",
     "output_type": "stream",
     "text": [
      "CPU times: user 18 ms, sys: 7.57 ms, total: 25.6 ms\n",
      "Wall time: 2.84 s\n"
     ]
    },
    {
     "name": "stderr",
     "output_type": "stream",
     "text": [
      "\n"
     ]
    }
   ],
   "source": [
    "%%time\n",
    "results =  []\n",
    "input_path = \"../murtazo/cloudnaca/msh/\"\n",
    "sublist_msh = ['r0a24n200.msh','r0a0n200.msh',   'r0a1n200.msh',  'r0a2n200.msh', 'r0a3n200.msh','r0a4n200.msh','r1a27n200.msh'  ]\n",
    "# for filename in tqdm(os.listdir(input_path)):\n",
    "for filename in tqdm(sublist_msh):\n",
    "    output, result, json = startSimulation(filename)\n",
    "    results.append(output)\n",
    "    break\n",
    "    \n",
    "    \n",
    "    \n",
    " "
   ]
  },
  {
   "cell_type": "code",
   "execution_count": 10,
   "id": "e986b310",
   "metadata": {
    "tags": []
   },
   "outputs": [
    {
     "name": "stdout",
     "output_type": "stream",
     "text": [
      "['1\\t37.0841\\t13.1751'] <class 'IPython.utils.text.SList'>\n",
      "{'filename': 'r0a24n200.msh', 'lift': '37.0841', 'drag': '13.1751'} <class 'dict'>\n",
      "{\"filename\": \"r0a24n200.msh\", \"lift\": \"37.0841\", \"drag\": \"13.1751\"} <class 'str'>\n"
     ]
    }
   ],
   "source": [
    "# print(output, type(output))\n",
    "# print(result, type(result))\n",
    "# print(json, type(json))\n"
   ]
  },
  {
   "cell_type": "code",
   "execution_count": 11,
   "id": "07f8f18f",
   "metadata": {
    "tags": []
   },
   "outputs": [
    {
     "name": "stdout",
     "output_type": "stream",
     "text": [
      "[['1\\t37.0841\\t13.1751']]\n"
     ]
    }
   ],
   "source": [
    "# # Task 3 run navier_stokes_solver by ./airfoil 10 0.0001 10. 1 file\n",
    "# print(results)"
   ]
  },
  {
   "cell_type": "code",
   "execution_count": 6,
   "id": "560921f9",
   "metadata": {
    "tags": []
   },
   "outputs": [],
   "source": [
    "#------------ CELERY IMPLEMENTATION -----------------------------------------------------\n"
   ]
  },
  {
   "cell_type": "code",
   "execution_count": 49,
   "id": "207d665a",
   "metadata": {},
   "outputs": [
    {
     "name": "stderr",
     "output_type": "stream",
     "text": [
      "100%|██████████| 3/3 [00:00<00:00, 241.83it/s]\n"
     ]
    },
    {
     "name": "stdout",
     "output_type": "stream",
     "text": [
      "['{\"filename\": \"r0a24n200.msh\", \"lift\": \"25.3015\", \"drag\": \"19.7578\\\\n\"}', '{\"filename\": \"r0a0n200.msh\", \"lift\": \"2.64065\", \"drag\": \"17.2411\\\\n\"}', '{\"filename\": \"r0a3n200.msh\", \"lift\": \"-0.702569\", \"drag\": \"17.8132\\\\n\"}']\n",
      "CPU times: user 63.4 ms, sys: 3.36 ms, total: 66.8 ms\n",
      "Wall time: 1min 40s\n"
     ]
    }
   ],
   "source": [
    "%%time\n",
    "import os\n",
    "from tqdm import tqdm\n",
    "from proj.celery import startSimulation\n",
    "taskqueue =  []\n",
    "input_path = \"../murtazo/cloudnaca/msh/\"\n",
    "# Scaling Test with only three mesh files\n",
    "sublist_msh = ['r0a24n200.msh', 'r0a0n200.msh', 'r0a3n200.msh'  ]\n",
    "# sublist_msh = ['r0a24n200.msh', 'r0a0n200.msh', 'r0a3n200.msh','r1a27n200.msh'   ]\n",
    "i = 0\n",
    "#for filename in tqdm(os.listdir(input_path)):\n",
    "for filename in tqdm(sublist_msh):\n",
    "    if \"xml\" in filename:\n",
    "        print(filename)\n",
    "    else:\n",
    "        output = startSimulation.delay(filename, input_path)\n",
    "        taskqueue.append(output)\n",
    "        i = i+1\n",
    "    \n",
    "list_of_DicResults = []\n",
    "for asyncResult in taskqueue:\n",
    "    list_of_DicResults.append(asyncResult.get())\n",
    "    \n",
    "print(list_of_DicResults)"
   ]
  }
 ],
 "metadata": {
  "kernelspec": {
   "display_name": "Python 3 (ipykernel)",
   "language": "python",
   "name": "python3"
  },
  "language_info": {
   "codemirror_mode": {
    "name": "ipython",
    "version": 3
   },
   "file_extension": ".py",
   "mimetype": "text/x-python",
   "name": "python",
   "nbconvert_exporter": "python",
   "pygments_lexer": "ipython3",
   "version": "3.10.6"
  }
 },
 "nbformat": 4,
 "nbformat_minor": 5
}

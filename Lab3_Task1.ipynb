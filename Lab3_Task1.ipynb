{
 "cells": [
  {
   "cell_type": "code",
   "execution_count": 1,
   "id": "521319b5",
   "metadata": {},
   "outputs": [],
   "source": [
    "# Load json from data files"
   ]
  },
  {
   "cell_type": "code",
   "execution_count": 18,
   "id": "747e6c85",
   "metadata": {},
   "outputs": [],
   "source": [
    "#Load Tweets\n",
    "import json\n",
    "import pandas as pd\n",
    "\n",
    "def read_input(input_txt_file):\n",
    "    tweets_list = []\n",
    "    #print(\"Start Reading Text file containing multiple JSON objects -> Return Python dictionary (key-value) of JSON objets\")\n",
    "    with open(input_txt_file) as file:\n",
    "        for jsonObject in file:\n",
    "            if not jsonObject.isspace():\n",
    "                tweets_Dict = json.loads(jsonObject)\n",
    "                tweets_list.append(tweets_Dict)\n",
    "\n",
    "    tweet_data_frame = pd.DataFrame.from_dict(tweets_list)\n",
    "    #filter out retweeted tweets\n",
    "    tweet_data_frame=tweet_data_frame[tweet_data_frame.retweeted==False]\n",
    "    # Lowercase --> column TEXT\n",
    "    tweet_data_frame[\"text\"] = tweet_data_frame[\"text\"].apply(lambda str: str.lower())\n",
    "   \n",
    "    return tweet_data_frame\n"
   ]
  },
  {
   "cell_type": "code",
   "execution_count": 19,
   "id": "3af6dd9c",
   "metadata": {},
   "outputs": [
    {
     "name": "stdout",
     "output_type": "stream",
     "text": [
      "/home/ubuntu/lab3\r\n"
     ]
    }
   ],
   "source": [
    "!pwd"
   ]
  },
  {
   "cell_type": "code",
   "execution_count": 20,
   "id": "9aae28c9",
   "metadata": {},
   "outputs": [],
   "source": [
    "input_path = \"./data/05cb5036-2170-401b-947d-68f9191b21c6\""
   ]
  },
  {
   "cell_type": "code",
   "execution_count": 21,
   "id": "1bee277a",
   "metadata": {},
   "outputs": [
    {
     "name": "stdout",
     "output_type": "stream",
     "text": [
      "<class 'pandas.core.frame.DataFrame'>\n",
      "Int64Index: 6690 entries, 0 to 6689\n",
      "Data columns (total 31 columns):\n",
      " #   Column                     Non-Null Count  Dtype  \n",
      "---  ------                     --------------  -----  \n",
      " 0   created_at                 6690 non-null   object \n",
      " 1   id                         6690 non-null   int64  \n",
      " 2   id_str                     6690 non-null   object \n",
      " 3   text                       6690 non-null   object \n",
      " 4   source                     6690 non-null   object \n",
      " 5   truncated                  6690 non-null   bool   \n",
      " 6   in_reply_to_status_id      2516 non-null   float64\n",
      " 7   in_reply_to_status_id_str  2516 non-null   object \n",
      " 8   in_reply_to_user_id        2574 non-null   float64\n",
      " 9   in_reply_to_user_id_str    2574 non-null   object \n",
      " 10  in_reply_to_screen_name    2574 non-null   object \n",
      " 11  user                       6690 non-null   object \n",
      " 12  geo                        13 non-null     object \n",
      " 13  coordinates                13 non-null     object \n",
      " 14  place                      290 non-null    object \n",
      " 15  contributors               0 non-null      object \n",
      " 16  is_quote_status            6690 non-null   bool   \n",
      " 17  retweet_count              6690 non-null   int64  \n",
      " 18  favorite_count             6690 non-null   int64  \n",
      " 19  entities                   6690 non-null   object \n",
      " 20  favorited                  6690 non-null   bool   \n",
      " 21  retweeted                  6690 non-null   bool   \n",
      " 22  filter_level               6690 non-null   object \n",
      " 23  lang                       6690 non-null   object \n",
      " 24  timestamp_ms               6690 non-null   object \n",
      " 25  retweeted_status           2114 non-null   object \n",
      " 26  quoted_status_id           175 non-null    float64\n",
      " 27  quoted_status_id_str       175 non-null    object \n",
      " 28  quoted_status              175 non-null    object \n",
      " 29  possibly_sensitive         1654 non-null   object \n",
      " 30  extended_entities          616 non-null    object \n",
      "dtypes: bool(4), float64(3), int64(3), object(21)\n",
      "memory usage: 1.5+ MB\n"
     ]
    }
   ],
   "source": [
    "tweet_data_frame = read_input(input_path)\n",
    "tweet_data_frame.info()"
   ]
  },
  {
   "cell_type": "code",
   "execution_count": 28,
   "id": "11fc9259",
   "metadata": {},
   "outputs": [
    {
     "data": {
      "text/plain": [
       "0         @danielsbetting ska fan radera den appen alltså\n",
       "1                         @vinylprinsessa hen heter länis\n",
       "2       @kortvilse ja se folk är aldrig nöjda... 😁 \\nd...\n",
       "3       @nyfikenful hahahaha.... jädrans bra svar! 👍✌️...\n",
       "4       rt @vrakplundrare: ni som är oroliga för usa o...\n",
       "                              ...                        \n",
       "6685    rt @nabila_afr: jag älskar att #lyckligagatan ...\n",
       "6686              @eddiescurfy den twitter support? ;) :p\n",
       "6687    rt @bodinhenrik: att följa någon på twitter oc...\n",
       "6688    det enda glädjeämnet jag finner är att molins ...\n",
       "6689    @silvermoback jag har hejat på adde men han jo...\n",
       "Name: text, Length: 6690, dtype: object"
      ]
     },
     "execution_count": 28,
     "metadata": {},
     "output_type": "execute_result"
    }
   ],
   "source": [
    "texts = tweet_data_frame['text']\n",
    "texts"
   ]
  },
  {
   "cell_type": "code",
   "execution_count": 30,
   "id": "af5b51d1",
   "metadata": {},
   "outputs": [],
   "source": [
    "import re\n",
    "hen_patter = re.compile(\"[^a-z]hen[^a-z]\")\n",
    "han_patter = re.compile(\"[^a-z]han[^a-z]\")\n",
    "hon_patter = re.compile(\"[^a-z]hon[^a-z]\")\n",
    "den_patter = re.compile(\"[^a-z]den[^a-z]\")\n",
    "det_patter = re.compile(\"[^a-z]det[^a-z]\")\n",
    "denna_patter = re.compile(\"[^a-z]denna[^a-z]\")\n",
    "denne_patter = re.compile(\"[^a-z]denne[^a-z]\")\n",
    "counters = {'hen':0,'han':0,'hon':0,'den':0,'det':0,'denna':0,'denne':0}"
   ]
  },
  {
   "cell_type": "code",
   "execution_count": 34,
   "id": "76450414",
   "metadata": {},
   "outputs": [],
   "source": [
    "for index, line in texts.items():\n",
    "     # Hen Patter     \n",
    "    if hen_patter.search(line):\n",
    "        counters['hen'] += 1\n",
    "    # “han” Patter       \n",
    "    if han_patter.search(line):\n",
    "        counters['han'] += 1\n",
    "    # HON        \n",
    "    if hon_patter.search(line):\n",
    "         counters['hon'] += 1\n",
    "           # DET        \n",
    "    if den_patter.search(line):\n",
    "        counters['den'] += 1\n",
    "        # DET        \n",
    "    if det_patter.search(line):\n",
    "         counters['det'] += 1\n",
    "    # DENNA        \n",
    "    if denna_patter.search(line):\n",
    "         counters['denna'] += 1\n",
    "    # DENNE       \n",
    "    if denne_patter.search(line):\n",
    "        counters['denne'] += 1"
   ]
  },
  {
   "cell_type": "code",
   "execution_count": 35,
   "id": "2e52d343",
   "metadata": {},
   "outputs": [
    {
     "data": {
      "text/plain": [
       "{'hen': 128,\n",
       " 'han': 4152,\n",
       " 'hon': 874,\n",
       " 'den': 6858,\n",
       " 'det': 2584,\n",
       " 'denna': 98,\n",
       " 'denne': 54}"
      ]
     },
     "execution_count": 35,
     "metadata": {},
     "output_type": "execute_result"
    }
   ],
   "source": [
    "counters"
   ]
  },
  {
   "cell_type": "code",
   "execution_count": 7,
   "id": "72532705",
   "metadata": {},
   "outputs": [],
   "source": [
    "# Celery tasks test\n",
    "from proj.tasks import add, mul"
   ]
  },
  {
   "cell_type": "code",
   "execution_count": 8,
   "id": "1b0f1664",
   "metadata": {},
   "outputs": [
    {
     "data": {
      "text/plain": [
       "<AsyncResult: 5d01bf90-efba-421b-8448-5357305369a9>"
      ]
     },
     "execution_count": 8,
     "metadata": {},
     "output_type": "execute_result"
    }
   ],
   "source": [
    "\n",
    "add.delay(4, 4)"
   ]
  },
  {
   "cell_type": "code",
   "execution_count": 9,
   "id": "a3b89635",
   "metadata": {},
   "outputs": [
    {
     "name": "stdout",
     "output_type": "stream",
     "text": [
      "True\n"
     ]
    },
    {
     "data": {
      "text/plain": [
       "16"
      ]
     },
     "execution_count": 9,
     "metadata": {},
     "output_type": "execute_result"
    }
   ],
   "source": [
    "res = mul.delay(4, 4)\n",
    "print(res.ready())\n",
    "res.get(timeout=1)"
   ]
  },
  {
   "cell_type": "code",
   "execution_count": null,
   "id": "4ce200bd",
   "metadata": {},
   "outputs": [],
   "source": []
  }
 ],
 "metadata": {
  "kernelspec": {
   "display_name": "Python 3 (ipykernel)",
   "language": "python",
   "name": "python3"
  },
  "language_info": {
   "codemirror_mode": {
    "name": "ipython",
    "version": 3
   },
   "file_extension": ".py",
   "mimetype": "text/x-python",
   "name": "python",
   "nbconvert_exporter": "python",
   "pygments_lexer": "ipython3",
   "version": "3.8.10"
  }
 },
 "nbformat": 4,
 "nbformat_minor": 5
}

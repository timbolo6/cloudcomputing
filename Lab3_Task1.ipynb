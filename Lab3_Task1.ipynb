{
 "cells": [
  {
   "cell_type": "code",
   "execution_count": 1,
   "id": "521319b5",
   "metadata": {},
   "outputs": [],
   "source": [
    "# Load json from data files"
   ]
  },
  {
   "cell_type": "code",
   "execution_count": 2,
   "id": "747e6c85",
   "metadata": {},
   "outputs": [],
   "source": [
    "#Load Tweets\n",
    "\n",
    "import json\n",
    "import pandas as pd\n",
    "import re\n",
    "'''\n",
    "Loads tweet data from a specific file (which contains multiple JSON tweets) into a panda dataframe\n",
    "'''\n",
    "def read_input(input_txt_file):\n",
    "    tweets_list = []\n",
    "    #print(\"Start Reading Text file containing multiple JSON objects -> Return Python dictionary (key-value) of JSON objets\")\n",
    "    with open(input_txt_file) as file:\n",
    "        for jsonObject in file:\n",
    "            if not jsonObject.isspace():\n",
    "                tweets_Dict = json.loads(jsonObject)\n",
    "                tweets_list.append(tweets_Dict)\n",
    "\n",
    "    tweet_data_frame = pd.DataFrame.from_dict(tweets_list)\n",
    "    #filter out retweeted tweets\n",
    "    tweet_data_frame=tweet_data_frame[tweet_data_frame.retweeted==False]\n",
    "    # Lowercase --> column TEXT\n",
    "    tweet_data_frame[\"text\"] = tweet_data_frame[\"text\"].apply(lambda str: str.lower())\n",
    "   \n",
    "    return tweet_data_frame\n",
    "\n",
    "def count_pronouns(tweet_texts):\n",
    "    hen_patter = re.compile(\"[^a-z]hen[^a-z]\")\n",
    "    han_patter = re.compile(\"[^a-z]han[^a-z]\")\n",
    "    hon_patter = re.compile(\"[^a-z]hon[^a-z]\")\n",
    "    den_patter = re.compile(\"[^a-z]den[^a-z]\")\n",
    "    det_patter = re.compile(\"[^a-z]det[^a-z]\")\n",
    "    denna_patter = re.compile(\"[^a-z]denna[^a-z]\")\n",
    "    denne_patter = re.compile(\"[^a-z]denne[^a-z]\")\n",
    "    counters = {'hen':0,'han':0,'hon':0,'den':0,'det':0,'denna':0,'denne':0}\n",
    "    # Loop through all tweets texts and count the pronouns\n",
    "    for index, line in tweet_texts.items():\n",
    "         # Hen Patter     \n",
    "        if hen_patter.search(line):\n",
    "            counters['hen'] += 1\n",
    "        # “han” Patter       \n",
    "        if han_patter.search(line):\n",
    "            counters['han'] += 1\n",
    "        # HON        \n",
    "        if hon_patter.search(line):\n",
    "             counters['hon'] += 1\n",
    "               # DET        \n",
    "        if den_patter.search(line):\n",
    "            counters['den'] += 1\n",
    "            # DET        \n",
    "        if det_patter.search(line):\n",
    "             counters['det'] += 1\n",
    "        # DENNA        \n",
    "        if denna_patter.search(line):\n",
    "             counters['denna'] += 1\n",
    "        # DENNE       \n",
    "        if denne_patter.search(line):\n",
    "            counters['denne'] += 1\n",
    "    return counters\n",
    "    \n"
   ]
  },
  {
   "cell_type": "code",
   "execution_count": 3,
   "id": "9aae28c9",
   "metadata": {},
   "outputs": [],
   "source": [
    "input_path = \"./data/05cb5036-2170-401b-947d-68f9191b21c6\"\n",
    "tweet_data_frame = read_input(input_path)\n",
    "result = count_pronouns(tweet_data_frame['text'])"
   ]
  },
  {
   "cell_type": "code",
   "execution_count": 4,
   "id": "f444d2de",
   "metadata": {},
   "outputs": [
    {
     "data": {
      "text/plain": [
       "{'hen': 64,\n",
       " 'han': 2076,\n",
       " 'hon': 437,\n",
       " 'den': 3429,\n",
       " 'det': 1292,\n",
       " 'denna': 49,\n",
       " 'denne': 27}"
      ]
     },
     "execution_count": 4,
     "metadata": {},
     "output_type": "execute_result"
    }
   ],
   "source": [
    "result"
   ]
  },
  {
   "cell_type": "code",
   "execution_count": 5,
   "id": "72532705",
   "metadata": {},
   "outputs": [],
   "source": [
    "# Celery tasks test\n",
    "from proj.tasks import add, mul"
   ]
  },
  {
   "cell_type": "code",
   "execution_count": 6,
   "id": "1b0f1664",
   "metadata": {},
   "outputs": [
    {
     "data": {
      "text/plain": [
       "<AsyncResult: 7de4890e-5e21-46c1-96db-222d1bb61097>"
      ]
     },
     "execution_count": 6,
     "metadata": {},
     "output_type": "execute_result"
    }
   ],
   "source": [
    "\n",
    "add.delay(4, 4)"
   ]
  },
  {
   "cell_type": "code",
   "execution_count": 7,
   "id": "a3b89635",
   "metadata": {},
   "outputs": [
    {
     "name": "stdout",
     "output_type": "stream",
     "text": [
      "False\n"
     ]
    },
    {
     "ename": "TimeoutError",
     "evalue": "The operation timed out.",
     "output_type": "error",
     "traceback": [
      "\u001b[0;31m---------------------------------------------------------------------------\u001b[0m",
      "\u001b[0;31mtimeout\u001b[0m                                   Traceback (most recent call last)",
      "File \u001b[0;32m~/.local/lib/python3.8/site-packages/celery/backends/asynchronous.py:287\u001b[0m, in \u001b[0;36mBaseResultConsumer._wait_for_pending\u001b[0;34m(self, result, timeout, on_interval, on_message, **kwargs)\u001b[0m\n\u001b[1;32m    286\u001b[0m \u001b[38;5;28;01mtry\u001b[39;00m:\n\u001b[0;32m--> 287\u001b[0m     \u001b[38;5;28;01mfor\u001b[39;00m _ \u001b[38;5;129;01min\u001b[39;00m \u001b[38;5;28mself\u001b[39m\u001b[38;5;241m.\u001b[39mdrain_events_until(\n\u001b[1;32m    288\u001b[0m             result\u001b[38;5;241m.\u001b[39mon_ready, timeout\u001b[38;5;241m=\u001b[39mtimeout,\n\u001b[1;32m    289\u001b[0m             on_interval\u001b[38;5;241m=\u001b[39mon_interval):\n\u001b[1;32m    290\u001b[0m         \u001b[38;5;28;01myield\u001b[39;00m\n",
      "File \u001b[0;32m~/.local/lib/python3.8/site-packages/celery/backends/asynchronous.py:52\u001b[0m, in \u001b[0;36mDrainer.drain_events_until\u001b[0;34m(self, p, timeout, interval, on_interval, wait)\u001b[0m\n\u001b[1;32m     51\u001b[0m \u001b[38;5;28;01mif\u001b[39;00m timeout \u001b[38;5;129;01mand\u001b[39;00m time\u001b[38;5;241m.\u001b[39mmonotonic() \u001b[38;5;241m-\u001b[39m time_start \u001b[38;5;241m>\u001b[39m\u001b[38;5;241m=\u001b[39m timeout:\n\u001b[0;32m---> 52\u001b[0m     \u001b[38;5;28;01mraise\u001b[39;00m socket\u001b[38;5;241m.\u001b[39mtimeout()\n\u001b[1;32m     53\u001b[0m \u001b[38;5;28;01mtry\u001b[39;00m:\n",
      "\u001b[0;31mtimeout\u001b[0m: ",
      "\nDuring handling of the above exception, another exception occurred:\n",
      "\u001b[0;31mTimeoutError\u001b[0m                              Traceback (most recent call last)",
      "Cell \u001b[0;32mIn [7], line 3\u001b[0m\n\u001b[1;32m      1\u001b[0m res \u001b[38;5;241m=\u001b[39m mul\u001b[38;5;241m.\u001b[39mdelay(\u001b[38;5;241m4\u001b[39m, \u001b[38;5;241m4\u001b[39m)\n\u001b[1;32m      2\u001b[0m \u001b[38;5;28mprint\u001b[39m(res\u001b[38;5;241m.\u001b[39mready())\n\u001b[0;32m----> 3\u001b[0m res\u001b[38;5;241m.\u001b[39mget(timeout\u001b[38;5;241m=\u001b[39m\u001b[38;5;241m1\u001b[39m)\n",
      "File \u001b[0;32m~/.local/lib/python3.8/site-packages/celery/result.py:224\u001b[0m, in \u001b[0;36mAsyncResult.get\u001b[0;34m(self, timeout, propagate, interval, no_ack, follow_parents, callback, on_message, on_interval, disable_sync_subtasks, EXCEPTION_STATES, PROPAGATE_STATES)\u001b[0m\n\u001b[1;32m    221\u001b[0m     \u001b[38;5;28;01mreturn\u001b[39;00m \u001b[38;5;28mself\u001b[39m\u001b[38;5;241m.\u001b[39mresult\n\u001b[1;32m    223\u001b[0m \u001b[38;5;28mself\u001b[39m\u001b[38;5;241m.\u001b[39mbackend\u001b[38;5;241m.\u001b[39madd_pending_result(\u001b[38;5;28mself\u001b[39m)\n\u001b[0;32m--> 224\u001b[0m \u001b[38;5;28;01mreturn\u001b[39;00m \u001b[38;5;28;43mself\u001b[39;49m\u001b[38;5;241;43m.\u001b[39;49m\u001b[43mbackend\u001b[49m\u001b[38;5;241;43m.\u001b[39;49m\u001b[43mwait_for_pending\u001b[49m\u001b[43m(\u001b[49m\n\u001b[1;32m    225\u001b[0m \u001b[43m    \u001b[49m\u001b[38;5;28;43mself\u001b[39;49m\u001b[43m,\u001b[49m\u001b[43m \u001b[49m\u001b[43mtimeout\u001b[49m\u001b[38;5;241;43m=\u001b[39;49m\u001b[43mtimeout\u001b[49m\u001b[43m,\u001b[49m\n\u001b[1;32m    226\u001b[0m \u001b[43m    \u001b[49m\u001b[43minterval\u001b[49m\u001b[38;5;241;43m=\u001b[39;49m\u001b[43minterval\u001b[49m\u001b[43m,\u001b[49m\n\u001b[1;32m    227\u001b[0m \u001b[43m    \u001b[49m\u001b[43mon_interval\u001b[49m\u001b[38;5;241;43m=\u001b[39;49m\u001b[43m_on_interval\u001b[49m\u001b[43m,\u001b[49m\n\u001b[1;32m    228\u001b[0m \u001b[43m    \u001b[49m\u001b[43mno_ack\u001b[49m\u001b[38;5;241;43m=\u001b[39;49m\u001b[43mno_ack\u001b[49m\u001b[43m,\u001b[49m\n\u001b[1;32m    229\u001b[0m \u001b[43m    \u001b[49m\u001b[43mpropagate\u001b[49m\u001b[38;5;241;43m=\u001b[39;49m\u001b[43mpropagate\u001b[49m\u001b[43m,\u001b[49m\n\u001b[1;32m    230\u001b[0m \u001b[43m    \u001b[49m\u001b[43mcallback\u001b[49m\u001b[38;5;241;43m=\u001b[39;49m\u001b[43mcallback\u001b[49m\u001b[43m,\u001b[49m\n\u001b[1;32m    231\u001b[0m \u001b[43m    \u001b[49m\u001b[43mon_message\u001b[49m\u001b[38;5;241;43m=\u001b[39;49m\u001b[43mon_message\u001b[49m\u001b[43m,\u001b[49m\n\u001b[1;32m    232\u001b[0m \u001b[43m\u001b[49m\u001b[43m)\u001b[49m\n",
      "File \u001b[0;32m~/.local/lib/python3.8/site-packages/celery/backends/asynchronous.py:221\u001b[0m, in \u001b[0;36mAsyncBackendMixin.wait_for_pending\u001b[0;34m(self, result, callback, propagate, **kwargs)\u001b[0m\n\u001b[1;32m    218\u001b[0m \u001b[38;5;28;01mdef\u001b[39;00m \u001b[38;5;21mwait_for_pending\u001b[39m(\u001b[38;5;28mself\u001b[39m, result,\n\u001b[1;32m    219\u001b[0m                      callback\u001b[38;5;241m=\u001b[39m\u001b[38;5;28;01mNone\u001b[39;00m, propagate\u001b[38;5;241m=\u001b[39m\u001b[38;5;28;01mTrue\u001b[39;00m, \u001b[38;5;241m*\u001b[39m\u001b[38;5;241m*\u001b[39mkwargs):\n\u001b[1;32m    220\u001b[0m     \u001b[38;5;28mself\u001b[39m\u001b[38;5;241m.\u001b[39m_ensure_not_eager()\n\u001b[0;32m--> 221\u001b[0m     \u001b[38;5;28;01mfor\u001b[39;00m _ \u001b[38;5;129;01min\u001b[39;00m \u001b[38;5;28mself\u001b[39m\u001b[38;5;241m.\u001b[39m_wait_for_pending(result, \u001b[38;5;241m*\u001b[39m\u001b[38;5;241m*\u001b[39mkwargs):\n\u001b[1;32m    222\u001b[0m         \u001b[38;5;28;01mpass\u001b[39;00m\n\u001b[1;32m    223\u001b[0m     \u001b[38;5;28;01mreturn\u001b[39;00m result\u001b[38;5;241m.\u001b[39mmaybe_throw(callback\u001b[38;5;241m=\u001b[39mcallback, propagate\u001b[38;5;241m=\u001b[39mpropagate)\n",
      "File \u001b[0;32m~/.local/lib/python3.8/site-packages/celery/backends/asynchronous.py:293\u001b[0m, in \u001b[0;36mBaseResultConsumer._wait_for_pending\u001b[0;34m(self, result, timeout, on_interval, on_message, **kwargs)\u001b[0m\n\u001b[1;32m    291\u001b[0m         sleep(\u001b[38;5;241m0\u001b[39m)\n\u001b[1;32m    292\u001b[0m \u001b[38;5;28;01mexcept\u001b[39;00m socket\u001b[38;5;241m.\u001b[39mtimeout:\n\u001b[0;32m--> 293\u001b[0m     \u001b[38;5;28;01mraise\u001b[39;00m \u001b[38;5;167;01mTimeoutError\u001b[39;00m(\u001b[38;5;124m'\u001b[39m\u001b[38;5;124mThe operation timed out.\u001b[39m\u001b[38;5;124m'\u001b[39m)\n\u001b[1;32m    294\u001b[0m \u001b[38;5;28;01mfinally\u001b[39;00m:\n\u001b[1;32m    295\u001b[0m     \u001b[38;5;28mself\u001b[39m\u001b[38;5;241m.\u001b[39mon_message \u001b[38;5;241m=\u001b[39m prev_on_m\n",
      "\u001b[0;31mTimeoutError\u001b[0m: The operation timed out."
     ]
    }
   ],
   "source": [
    "res = mul.delay(4, 4)\n",
    "print(res.ready())\n",
    "res.get(timeout=1)"
   ]
  },
  {
   "cell_type": "code",
   "execution_count": null,
   "id": "4ce200bd",
   "metadata": {},
   "outputs": [],
   "source": []
  }
 ],
 "metadata": {
  "kernelspec": {
   "display_name": "Python 3 (ipykernel)",
   "language": "python",
   "name": "python3"
  },
  "language_info": {
   "codemirror_mode": {
    "name": "ipython",
    "version": 3
   },
   "file_extension": ".py",
   "mimetype": "text/x-python",
   "name": "python",
   "nbconvert_exporter": "python",
   "pygments_lexer": "ipython3",
   "version": "3.8.10"
  }
 },
 "nbformat": 4,
 "nbformat_minor": 5
}
